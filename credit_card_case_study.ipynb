{
 "cells": [
  {
   "cell_type": "code",
   "execution_count": 2,
   "metadata": {},
   "outputs": [
    {
     "name": "stdout",
     "output_type": "stream",
     "text": [
      "   Transaction_ID  Customer_ID Transaction_Date Transaction_Type Merchant  \\\n",
      "0          100000         4452       2023-01-01           Online  Walmart   \n",
      "1          100001         2775       2023-01-01              ATM  BestBuy   \n",
      "2          100002         2259       2023-01-01   Mobile Payment     Uber   \n",
      "3          100003         4545       2023-01-01           Online  BestBuy   \n",
      "4          100004         2137       2023-01-01              ATM   Amazon   \n",
      "\n",
      "   Category   Amount Payment_Mode Transaction_Status       Location  \n",
      "0    Travel  4520.70   Debit Card           Approved      Jonesport  \n",
      "1    Travel  1437.85   Debit Card           Approved  Port Jennifer  \n",
      "2  Clothing  3320.52       PayPal           Approved     Port James  \n",
      "3    Travel  2659.96   Debit Card           Approved     Hawkinston  \n",
      "4    Travel  2517.07   Debit Card           Approved    Matthewland  \n"
     ]
    }
   ],
   "source": [
    "import pandas as pd\n",
    "import matplotlib.pyplot as plt\n",
    "import seaborn as sns\n",
    "\n",
    "#load the dataset\n",
    "df = pd.read_csv(\"https://raw.githubusercontent.com/Pankaj-Str/Complete-Python-Mastery/refs/heads/main/53%20DataSet/credit_card_transactions.csv\")\n",
    "\n",
    "#showed first five rows\n",
    "print(df.head())"
   ]
  },
  {
   "cell_type": "code",
   "execution_count": 3,
   "metadata": {},
   "outputs": [
    {
     "name": "stdout",
     "output_type": "stream",
     "text": [
      "Displayed the first 5 rows\n",
      "   Transaction_ID  Customer_ID Transaction_Date Transaction_Type Merchant  \\\n",
      "0          100000         4452       2023-01-01           Online  Walmart   \n",
      "1          100001         2775       2023-01-01              ATM  BestBuy   \n",
      "2          100002         2259       2023-01-01   Mobile Payment     Uber   \n",
      "3          100003         4545       2023-01-01           Online  BestBuy   \n",
      "4          100004         2137       2023-01-01              ATM   Amazon   \n",
      "\n",
      "   Category   Amount Payment_Mode Transaction_Status       Location  \n",
      "0    Travel  4520.70   Debit Card           Approved      Jonesport  \n",
      "1    Travel  1437.85   Debit Card           Approved  Port Jennifer  \n",
      "2  Clothing  3320.52       PayPal           Approved     Port James  \n",
      "3    Travel  2659.96   Debit Card           Approved     Hawkinston  \n",
      "4    Travel  2517.07   Debit Card           Approved    Matthewland  \n"
     ]
    }
   ],
   "source": [
    "#Load the dataset into a Pandas DataFrame and display the first 5 rows.\n",
    "print(f\"Displayed the first 5 rows\")\n",
    "print(df.head())"
   ]
  },
  {
   "cell_type": "code",
   "execution_count": 4,
   "metadata": {},
   "outputs": [
    {
     "name": "stdout",
     "output_type": "stream",
     "text": [
      "The number of rows & columns in data are\n",
      "(5500, 10)\n"
     ]
    }
   ],
   "source": [
    "#Check the shape, column names, and summary statistics of the dataset.\n",
    "print(f\"The number of rows & columns in data are\")\n",
    "print(df.shape)"
   ]
  },
  {
   "cell_type": "code",
   "execution_count": 5,
   "metadata": {},
   "outputs": [
    {
     "name": "stdout",
     "output_type": "stream",
     "text": [
      "The columns names in data are as follows\n",
      "Index(['Transaction_ID', 'Customer_ID', 'Transaction_Date', 'Transaction_Type',\n",
      "       'Merchant', 'Category', 'Amount', 'Payment_Mode', 'Transaction_Status',\n",
      "       'Location'],\n",
      "      dtype='object')\n"
     ]
    }
   ],
   "source": [
    "print(f\"The columns names in data are as follows\")\n",
    "print(df.columns)"
   ]
  },
  {
   "cell_type": "code",
   "execution_count": 6,
   "metadata": {},
   "outputs": [
    {
     "name": "stdout",
     "output_type": "stream",
     "text": [
      "The summary statistics of the dataset are as follows\n",
      "       Transaction_ID  Customer_ID       Amount\n",
      "count     5500.000000  5500.000000  5500.000000\n",
      "mean    102749.500000  2989.954182  2492.109224\n",
      "std       1587.857571  1153.928878  1444.493842\n",
      "min     100000.000000  1000.000000     6.550000\n",
      "25%     101374.750000  1988.000000  1236.935000\n",
      "50%     102749.500000  3000.000000  2502.405000\n",
      "75%     104124.250000  3990.000000  3767.957500\n",
      "max     105499.000000  4998.000000  4997.490000\n"
     ]
    }
   ],
   "source": [
    "print(f\"The summary statistics of the dataset are as follows\")\n",
    "print(df.describe())"
   ]
  },
  {
   "cell_type": "code",
   "execution_count": 7,
   "metadata": {},
   "outputs": [
    {
     "name": "stdout",
     "output_type": "stream",
     "text": [
      "\n",
      "Checking data for missing values in dataset\n",
      "Transaction_ID        0\n",
      "Customer_ID           0\n",
      "Transaction_Date      0\n",
      "Transaction_Type      0\n",
      "Merchant              0\n",
      "Category              0\n",
      "Amount                0\n",
      "Payment_Mode          0\n",
      "Transaction_Status    0\n",
      "Location              0\n",
      "dtype: int64\n"
     ]
    }
   ],
   "source": [
    "#Identify and handle missing values (fill or drop based on the data type).\n",
    "print(\"\\nChecking data for missing values in dataset\")\n",
    "print(df.isnull().sum())"
   ]
  },
  {
   "cell_type": "code",
   "execution_count": 8,
   "metadata": {},
   "outputs": [
    {
     "name": "stdout",
     "output_type": "stream",
     "text": [
      "Transaction_ID          int64\n",
      "Customer_ID             int64\n",
      "Transaction_Date       object\n",
      "Transaction_Type       object\n",
      "Merchant               object\n",
      "Category               object\n",
      "Amount                float64\n",
      "Payment_Mode           object\n",
      "Transaction_Status     object\n",
      "Location               object\n",
      "dtype: object\n"
     ]
    }
   ],
   "source": [
    "#Convert Transaction_Date into datetime format and extract year, month, and day as new columns.\n",
    "print(df.dtypes)"
   ]
  },
  {
   "cell_type": "code",
   "execution_count": 9,
   "metadata": {},
   "outputs": [
    {
     "name": "stdout",
     "output_type": "stream",
     "text": [
      "Converted Transaction_Date into datetime format\n",
      "Transaction_ID                 int64\n",
      "Customer_ID                    int64\n",
      "Transaction_Date      datetime64[ns]\n",
      "Transaction_Type              object\n",
      "Merchant                      object\n",
      "Category                      object\n",
      "Amount                       float64\n",
      "Payment_Mode                  object\n",
      "Transaction_Status            object\n",
      "Location                      object\n",
      "dtype: object\n"
     ]
    }
   ],
   "source": [
    "df['Transaction_Date'] = pd.to_datetime(df['Transaction_Date'])\n",
    "print(f\"Converted Transaction_Date into datetime format\")\n",
    "print(df.dtypes)"
   ]
  },
  {
   "cell_type": "code",
   "execution_count": 10,
   "metadata": {},
   "outputs": [
    {
     "name": "stdout",
     "output_type": "stream",
     "text": [
      "Added 3 new columns i.e. year, Month, Day\n",
      "   Transaction_ID  Customer_ID Transaction_Date Transaction_Type Merchant  \\\n",
      "0          100000         4452       2023-01-01           Online  Walmart   \n",
      "1          100001         2775       2023-01-01              ATM  BestBuy   \n",
      "2          100002         2259       2023-01-01   Mobile Payment     Uber   \n",
      "3          100003         4545       2023-01-01           Online  BestBuy   \n",
      "4          100004         2137       2023-01-01              ATM   Amazon   \n",
      "\n",
      "   Category   Amount Payment_Mode Transaction_Status       Location  year  \\\n",
      "0    Travel  4520.70   Debit Card           Approved      Jonesport  2023   \n",
      "1    Travel  1437.85   Debit Card           Approved  Port Jennifer  2023   \n",
      "2  Clothing  3320.52       PayPal           Approved     Port James  2023   \n",
      "3    Travel  2659.96   Debit Card           Approved     Hawkinston  2023   \n",
      "4    Travel  2517.07   Debit Card           Approved    Matthewland  2023   \n",
      "\n",
      "   Month  Day  \n",
      "0      1    1  \n",
      "1      1    1  \n",
      "2      1    1  \n",
      "3      1    1  \n",
      "4      1    1  \n"
     ]
    }
   ],
   "source": [
    "df['year'] = df['Transaction_Date'].dt.year\n",
    "df['Month'] = df['Transaction_Date'].dt.month\n",
    "df['Day'] = df['Transaction_Date'].dt.day\n",
    "\n",
    "#checking for new columns get added\n",
    "print(f\"Added 3 new columns i.e. year, Month, Day\")\n",
    "print(df.head())"
   ]
  },
  {
   "cell_type": "code",
   "execution_count": 11,
   "metadata": {},
   "outputs": [
    {
     "name": "stdout",
     "output_type": "stream",
     "text": [
      "Retrieved all transactions made in January 2024.\n",
      "Empty DataFrame\n",
      "Columns: [Transaction_ID, Customer_ID, Transaction_Date, Transaction_Type, Merchant, Category, Amount, Payment_Mode, Transaction_Status, Location, year, Month, Day]\n",
      "Index: []\n"
     ]
    }
   ],
   "source": [
    "#Retrieve all transactions made in January 2024.\n",
    "jan_transactions = df[(df['year']== 2024) & (df['Month'] == 1)]\n",
    "print(f\"Retrieved all transactions made in January 2024.\")\n",
    "print(jan_transactions)\n"
   ]
  },
  {
   "cell_type": "code",
   "execution_count": 12,
   "metadata": {},
   "outputs": [
    {
     "name": "stdout",
     "output_type": "stream",
     "text": [
      "Showed transactions where Amount > 1000 and Transaction_Type is Online\n",
      "    Transaction_ID  Customer_ID Transaction_Date Transaction_Type Merchant  \\\n",
      "0           100000         4452       2023-01-01           Online  Walmart   \n",
      "3           100003         4545       2023-01-01           Online  BestBuy   \n",
      "6           100006         1587       2023-01-01           Online  Netflix   \n",
      "14          100014         1855       2023-01-01           Online  Walmart   \n",
      "18          100018         4438       2023-01-01           Online  BestBuy   \n",
      "\n",
      "         Category   Amount Payment_Mode Transaction_Status       Location  \\\n",
      "0          Travel  4520.70   Debit Card           Approved      Jonesport   \n",
      "3          Travel  2659.96   Debit Card           Approved     Hawkinston   \n",
      "6   Entertainment  2309.06   Debit Card           Approved      Scottport   \n",
      "14       Clothing  2365.67  Credit Card           Approved  Catherineland   \n",
      "18         Dining  2930.38          UPI           Approved    Johnsonside   \n",
      "\n",
      "    year  Month  Day  \n",
      "0   2023      1    1  \n",
      "3   2023      1    1  \n",
      "6   2023      1    1  \n",
      "14  2023      1    1  \n",
      "18  2023      1    1  \n"
     ]
    }
   ],
   "source": [
    "#Find transactions where Amount > 1000 and Transaction_Type is \"Online\".\n",
    "big_value_transactions = df[(df['Amount'] > 1000) & (df['Transaction_Type'] == \"Online\")]\n",
    "print(f\"Showed transactions where Amount > 1000 and Transaction_Type is Online\")\n",
    "print(big_value_transactions.head())"
   ]
  },
  {
   "cell_type": "code",
   "execution_count": 13,
   "metadata": {},
   "outputs": [
    {
     "name": "stdout",
     "output_type": "stream",
     "text": [
      "Showed only Approved transactions from the dataset.\n",
      "   Transaction_ID  Customer_ID Transaction_Date Transaction_Type Merchant  \\\n",
      "0          100000         4452       2023-01-01           Online  Walmart   \n",
      "1          100001         2775       2023-01-01              ATM  BestBuy   \n",
      "2          100002         2259       2023-01-01   Mobile Payment     Uber   \n",
      "3          100003         4545       2023-01-01           Online  BestBuy   \n",
      "4          100004         2137       2023-01-01              ATM   Amazon   \n",
      "\n",
      "   Category   Amount Payment_Mode Transaction_Status       Location  year  \\\n",
      "0    Travel  4520.70   Debit Card           Approved      Jonesport  2023   \n",
      "1    Travel  1437.85   Debit Card           Approved  Port Jennifer  2023   \n",
      "2  Clothing  3320.52       PayPal           Approved     Port James  2023   \n",
      "3    Travel  2659.96   Debit Card           Approved     Hawkinston  2023   \n",
      "4    Travel  2517.07   Debit Card           Approved    Matthewland  2023   \n",
      "\n",
      "   Month  Day  \n",
      "0      1    1  \n",
      "1      1    1  \n",
      "2      1    1  \n",
      "3      1    1  \n",
      "4      1    1  \n"
     ]
    }
   ],
   "source": [
    "#Select only Approved transactions from the dataset.\n",
    "approved_transactions = df[df['Transaction_Status']==\"Approved\"]\n",
    "print(f\"Showed only Approved transactions from the dataset.\")\n",
    "print(approved_transactions.head())"
   ]
  },
  {
   "cell_type": "code",
   "execution_count": 14,
   "metadata": {},
   "outputs": [
    {
     "name": "stdout",
     "output_type": "stream",
     "text": [
      "   Transaction_ID  Customer_ID Transaction_Date Transaction_Type Merchant  \\\n",
      "0          100000         4452       2023-01-01           Online  Walmart   \n",
      "1          100001         2775       2023-01-01              ATM  BestBuy   \n",
      "2          100002         2259       2023-01-01   Mobile Payment     Uber   \n",
      "3          100003         4545       2023-01-01           Online  BestBuy   \n",
      "4          100004         2137       2023-01-01              ATM   Amazon   \n",
      "\n",
      "   Category   Amount Payment_Mode Transaction_Status       Location  year  \\\n",
      "0    Travel  4520.70   Debit Card           Approved      Jonesport  2023   \n",
      "1    Travel  1437.85   Debit Card           Approved  Port Jennifer  2023   \n",
      "2  Clothing  3320.52       PayPal           Approved     Port James  2023   \n",
      "3    Travel  2659.96   Debit Card           Approved     Hawkinston  2023   \n",
      "4    Travel  2517.07   Debit Card           Approved    Matthewland  2023   \n",
      "\n",
      "   Month  Day  Discounted_Amount  \n",
      "0      1    1          4294.6650  \n",
      "1      1    1          1365.9575  \n",
      "2      1    1          3154.4940  \n",
      "3      1    1          2526.9620  \n",
      "4      1    1          2391.2165  \n"
     ]
    }
   ],
   "source": [
    "#Create a new column Discounted_Amount, assuming a 5% discount on all transactions above $500.\n",
    "df['Discounted_Amount'] = df['Amount'].apply(lambda x: x * 0.95 if x > 500 else x)\n",
    "print(df.head())"
   ]
  },
  {
   "cell_type": "code",
   "execution_count": 15,
   "metadata": {},
   "outputs": [
    {
     "name": "stdout",
     "output_type": "stream",
     "text": [
      "\n",
      "Dataset with the Transaction Quality column\n",
      "   Transaction_ID  Customer_ID Transaction_Date Transaction_Type Merchant  \\\n",
      "0          100000         4452       2023-01-01           Online  Walmart   \n",
      "1          100001         2775       2023-01-01              ATM  BestBuy   \n",
      "2          100002         2259       2023-01-01   Mobile Payment     Uber   \n",
      "3          100003         4545       2023-01-01           Online  BestBuy   \n",
      "4          100004         2137       2023-01-01              ATM   Amazon   \n",
      "\n",
      "   Category   Amount Payment_Mode Transaction_Status       Location  year  \\\n",
      "0    Travel  4520.70   Debit Card           Approved      Jonesport  2023   \n",
      "1    Travel  1437.85   Debit Card           Approved  Port Jennifer  2023   \n",
      "2  Clothing  3320.52       PayPal           Approved     Port James  2023   \n",
      "3    Travel  2659.96   Debit Card           Approved     Hawkinston  2023   \n",
      "4    Travel  2517.07   Debit Card           Approved    Matthewland  2023   \n",
      "\n",
      "   Month  Day  Discounted_Amount Transaction_Quality  \n",
      "0      1    1          4294.6650                High  \n",
      "1      1    1          1365.9575                High  \n",
      "2      1    1          3154.4940                High  \n",
      "3      1    1          2526.9620                High  \n",
      "4      1    1          2391.2165                High  \n"
     ]
    }
   ],
   "source": [
    "#Categorize the Transaction_Amount into Low, Medium, and High\n",
    "def categorize_amount(amount):\n",
    "    if amount < 500:\n",
    "        return \"Low\"\n",
    "    elif 100 <= amount <=500:\n",
    "        return \"Medium\"\n",
    "    else:\n",
    "        return \"High\"\n",
    "    \n",
    "df['Transaction_Quality'] = df[\"Amount\"].apply(categorize_amount)\n",
    "\n",
    "print(\"\\nDataset with the Transaction Quality column\")\n",
    "print(df.head())\n"
   ]
  },
  {
   "cell_type": "code",
   "execution_count": 16,
   "metadata": {},
   "outputs": [
    {
     "name": "stdout",
     "output_type": "stream",
     "text": [
      "\n",
      " Dataset after dropping the Merchant column if required\n",
      "   Transaction_ID  Customer_ID Transaction_Date Transaction_Type Merchant  \\\n",
      "0          100000         4452       2023-01-01           Online  Walmart   \n",
      "1          100001         2775       2023-01-01              ATM  BestBuy   \n",
      "2          100002         2259       2023-01-01   Mobile Payment     Uber   \n",
      "3          100003         4545       2023-01-01           Online  BestBuy   \n",
      "4          100004         2137       2023-01-01              ATM   Amazon   \n",
      "\n",
      "   Category   Amount Payment_Mode Transaction_Status       Location  year  \\\n",
      "0    Travel  4520.70   Debit Card           Approved      Jonesport  2023   \n",
      "1    Travel  1437.85   Debit Card           Approved  Port Jennifer  2023   \n",
      "2  Clothing  3320.52       PayPal           Approved     Port James  2023   \n",
      "3    Travel  2659.96   Debit Card           Approved     Hawkinston  2023   \n",
      "4    Travel  2517.07   Debit Card           Approved    Matthewland  2023   \n",
      "\n",
      "   Month  Day  Discounted_Amount Transaction_Quality  \n",
      "0      1    1          4294.6650                High  \n",
      "1      1    1          1365.9575                High  \n",
      "2      1    1          3154.4940                High  \n",
      "3      1    1          2526.9620                High  \n",
      "4      1    1          2391.2165                High  \n"
     ]
    }
   ],
   "source": [
    "#Drop the Merchant column if more than 30% of values are missing.\n",
    "if df['Merchant'].isnull().mean() > 0.3:\n",
    "    df.drop(columns=['Merchant'], inplace=True)\n",
    "\n",
    "print(\"\\n Dataset after dropping the Merchant column if required\")\n",
    "print(df.head())"
   ]
  },
  {
   "cell_type": "code",
   "execution_count": 17,
   "metadata": {},
   "outputs": [
    {
     "name": "stdout",
     "output_type": "stream",
     "text": [
      "Showed the total transaction amount per Category as follows\n",
      "Category\n",
      "Clothing         2185530.09\n",
      "Dining           2402259.10\n",
      "Electronics      2319437.34\n",
      "Entertainment    2243778.43\n",
      "Groceries        2386772.81\n",
      "Travel           2168822.96\n",
      "Name: Amount, dtype: float64\n"
     ]
    }
   ],
   "source": [
    "#Find the total transaction amount per Category.\n",
    "category_amount = df.groupby('Category')['Amount'].sum()\n",
    "print(f\"Showed the total transaction amount per Category as follows\")\n",
    "print(category_amount)"
   ]
  },
  {
   "cell_type": "code",
   "execution_count": 18,
   "metadata": {},
   "outputs": [
    {
     "name": "stdout",
     "output_type": "stream",
     "text": [
      "Showed the number of declined transactions per Payment Mode.\n",
      "Payment_Mode\n",
      "Credit Card    117\n",
      "Debit Card     145\n",
      "PayPal         135\n",
      "UPI            134\n",
      "Name: Transaction_ID, dtype: int64\n"
     ]
    }
   ],
   "source": [
    "#Determine the number of declined transactions per Payment_Mode.\n",
    "declined_transactions = df[df['Transaction_Status'] == \"Declined\"].groupby('Payment_Mode')['Transaction_ID'].count()\n",
    "print(f\"Showed the number of declined transactions per Payment Mode.\")\n",
    "print(declined_transactions.head())"
   ]
  },
  {
   "cell_type": "code",
   "execution_count": 19,
   "metadata": {},
   "outputs": [
    {
     "name": "stdout",
     "output_type": "stream",
     "text": [
      "Identified the top 5 most frequent merchants based on transaction count.\n",
      "Merchant\n",
      "Uber       833\n",
      "Walmart    818\n",
      "BestBuy    790\n",
      "Netflix    774\n",
      "Amazon     770\n",
      "Name: count, dtype: int64\n"
     ]
    }
   ],
   "source": [
    "#Identify the top 5 most frequent merchants based on transaction count.\n",
    "top5_merchant = df['Merchant'].value_counts().nlargest(5)\n",
    "print(f\"Identified the top 5 most frequent merchants based on transaction count.\")\n",
    "print(top5_merchant)"
   ]
  },
  {
   "cell_type": "code",
   "execution_count": 20,
   "metadata": {},
   "outputs": [
    {
     "name": "stdout",
     "output_type": "stream",
     "text": [
      "Showed the average transaction amount per Location.\n",
      "Location\n",
      "Aaronfort       2429.860\n",
      "Aaronmouth      2648.060\n",
      "Aaronside        315.540\n",
      "Abbottbury      1549.850\n",
      "Abigailfort     3634.880\n",
      "                  ...   \n",
      "Zacharyburgh    2430.690\n",
      "Zacharyhaven     830.360\n",
      "Zacharymouth    3508.690\n",
      "Zacharystad     2925.135\n",
      "Zavalaburgh      364.530\n",
      "Name: Amount, Length: 4663, dtype: float64\n"
     ]
    }
   ],
   "source": [
    "#Find the average transaction amount per Location.\n",
    "location_avg_transaction = df.groupby('Location')['Amount'].mean()\n",
    "print(f\"Showed the average transaction amount per Location.\")\n",
    "print(location_avg_transaction)"
   ]
  },
  {
   "cell_type": "code",
   "execution_count": 21,
   "metadata": {},
   "outputs": [
    {
     "name": "stdout",
     "output_type": "stream",
     "text": [
      "customers who made more than 10 transactions in a single day\n",
      "Empty DataFrame\n",
      "Columns: [Customer_ID, Transaction_Date, Transaction_count]\n",
      "Index: []\n"
     ]
    }
   ],
   "source": [
    "#Find customers who made more than 10 transactions in a single day (potential fraud).\n",
    "scam_customers = df.groupby(['Customer_ID','Transaction_Date']).size().reset_index(name = 'Transaction_count')\n",
    "scam_customers = scam_customers[scam_customers[\"Transaction_count\"] > 10]\n",
    "\n",
    "print(f\"customers who made more than 10 transactions in a single day\")\n",
    "print(scam_customers)"
   ]
  },
  {
   "cell_type": "code",
   "execution_count": 22,
   "metadata": {},
   "outputs": [
    {
     "name": "stdout",
     "output_type": "stream",
     "text": [
      "\n",
      "Transactions that have the same Customer_ID but occurred in different locations within 5 minutes\n",
      "      Transaction_ID  Customer_ID Transaction_Date Transaction_Type  \\\n",
      "3717          103717         1079       2023-06-04   Mobile Payment   \n",
      "5461          105461         1140       2023-08-16           Online   \n",
      "5468          105468         1343       2023-08-16   Mobile Payment   \n",
      "4582          104582         1709       2023-07-10           Online   \n",
      "2588          102588         1776       2023-04-18           Online   \n",
      "207           100207         1910       2023-01-09           Online   \n",
      "2637          102637         1956       2023-04-20   Mobile Payment   \n",
      "4559          104559         2122       2023-07-09              ATM   \n",
      "1432          101432         2136       2023-03-01              POS   \n",
      "4569          104569         2165       2023-07-10              ATM   \n",
      "3465          103465         2270       2023-05-25              POS   \n",
      "767           100767         2884       2023-02-01           Online   \n",
      "2507          102507         3131       2023-04-15   Mobile Payment   \n",
      "2699          102699         3234       2023-04-23              POS   \n",
      "4941          104941         3351       2023-07-25              POS   \n",
      "1841          101841         3783       2023-03-18           Online   \n",
      "3511          103511         3861       2023-05-27   Mobile Payment   \n",
      "1960          101960         4143       2023-03-23           Online   \n",
      "1047          101047         4238       2023-02-13              POS   \n",
      "3282          103282         4429       2023-05-17           Online   \n",
      "5373          105373         4916       2023-08-12   Mobile Payment   \n",
      "\n",
      "         Merchant       Category   Amount Payment_Mode Transaction_Status  \\\n",
      "3717      Netflix         Travel  1292.38  Credit Card           Approved   \n",
      "5461  Apple Store  Entertainment  4027.18       PayPal           Approved   \n",
      "5468      Netflix  Entertainment   870.32       PayPal           Declined   \n",
      "4582      Walmart         Travel   205.13       PayPal           Approved   \n",
      "2588  Apple Store         Dining  3684.87       PayPal           Approved   \n",
      "207        Amazon      Groceries   175.36  Credit Card           Declined   \n",
      "2637       Amazon       Clothing  4993.16       PayPal           Approved   \n",
      "4559      Walmart      Groceries  3754.28   Debit Card           Approved   \n",
      "1432       Target      Groceries  1226.73   Debit Card           Approved   \n",
      "4569      Netflix      Groceries  4126.32   Debit Card           Declined   \n",
      "3465         Uber         Travel  3949.03  Credit Card           Approved   \n",
      "767        Amazon       Clothing  2549.76  Credit Card           Approved   \n",
      "2507       Target         Travel  4155.78          UPI           Approved   \n",
      "2699      Walmart      Groceries   834.41          UPI            Pending   \n",
      "4941         Uber    Electronics  3889.86          UPI           Approved   \n",
      "1841      Netflix    Electronics  4357.63       PayPal           Approved   \n",
      "3511         Uber       Clothing  4406.11          UPI           Approved   \n",
      "1960      Walmart         Travel   892.99   Debit Card           Approved   \n",
      "1047       Amazon    Electronics  4339.77       PayPal           Approved   \n",
      "3282      Walmart    Electronics  4448.52  Credit Card           Approved   \n",
      "5373         Uber         Travel   349.89   Debit Card           Approved   \n",
      "\n",
      "               Location  year  Month  Day  Discounted_Amount  \\\n",
      "3717         Davidville  2023      6    4          1227.7610   \n",
      "5461  South Lorichester  2023      8   16          3825.8210   \n",
      "5468  Lake Danielleview  2023      8   16           826.8040   \n",
      "4582        West Rhonda  2023      7   10           205.1300   \n",
      "2588    New Jeffreyside  2023      4   18          3500.6265   \n",
      "207    Port Michaelfurt  2023      1    9           175.3600   \n",
      "2637          Crossstad  2023      4   20          4743.5020   \n",
      "4559       Sarahborough  2023      7    9          3566.5660   \n",
      "1432        South Aaron  2023      3    1          1165.3935   \n",
      "4569         Grantville  2023      7   10          3920.0040   \n",
      "3465   West Kristenview  2023      5   25          3751.5785   \n",
      "767       Alexandrabury  2023      2    1          2422.2720   \n",
      "2507        Matthewfurt  2023      4   15          3947.9910   \n",
      "2699   Christophershire  2023      4   23           792.6895   \n",
      "4941         East Carol  2023      7   25          3695.3670   \n",
      "1841  North Michelleton  2023      3   18          4139.7485   \n",
      "3511          Kingburgh  2023      5   27          4185.8045   \n",
      "1960          Singhfort  2023      3   23           848.3405   \n",
      "1047      South Rebecca  2023      2   13          4122.7815   \n",
      "3282       Santanamouth  2023      5   17          4226.0940   \n",
      "5373          New James  2023      8   12           349.8900   \n",
      "\n",
      "     Transaction_Quality  Time_difference  \n",
      "3717                High              0.0  \n",
      "5461                High              0.0  \n",
      "5468                High              0.0  \n",
      "4582                 Low              0.0  \n",
      "2588                High              0.0  \n",
      "207                  Low              0.0  \n",
      "2637                High              0.0  \n",
      "4559                High              0.0  \n",
      "1432                High              0.0  \n",
      "4569                High              0.0  \n",
      "3465                High              0.0  \n",
      "767                 High              0.0  \n",
      "2507                High              0.0  \n",
      "2699                High              0.0  \n",
      "4941                High              0.0  \n",
      "1841                High              0.0  \n",
      "3511                High              0.0  \n",
      "1960                High              0.0  \n",
      "1047                High              0.0  \n",
      "3282                High              0.0  \n",
      "5373                 Low              0.0  \n"
     ]
    }
   ],
   "source": [
    "#Identify transactions that have the same Customer_ID but occurred in different locations within 5 minutes.\n",
    "df.sort_values([\"Customer_ID\",\"Transaction_Date\"], inplace=True)\n",
    "df[\"Time_difference\"] = df.groupby(\"Customer_ID\")[\"Transaction_Date\"].diff().dt.total_seconds() / 60\n",
    "diff_location_transactions = df[(df[\"Time_difference\"] <= 5) & (df[\"Location\"].shift() != df[\"Location\"])]\n",
    "print(\"\\nTransactions that have the same Customer_ID but occurred in different locations within 5 minutes\")\n",
    "print(diff_location_transactions)"
   ]
  },
  {
   "cell_type": "code",
   "execution_count": 23,
   "metadata": {},
   "outputs": [
    {
     "name": "stdout",
     "output_type": "stream",
     "text": [
      "High-risk transactions where Amount > $5000 and Transaction_Type is Online\n",
      "Empty DataFrame\n",
      "Columns: [Transaction_ID, Customer_ID, Transaction_Date, Transaction_Type, Merchant, Category, Amount, Payment_Mode, Transaction_Status, Location, year, Month, Day, Discounted_Amount, Transaction_Quality, Time_difference]\n",
      "Index: []\n"
     ]
    }
   ],
   "source": [
    "#Find transactions where Amount > $5000 and Transaction_Type is Online (flag as high-risk).\n",
    "High_risk = df[(df[\"Amount\"]>5000) & (df[\"Transaction_Type\"] == \"Online\")]\n",
    "print(f\"High-risk transactions where Amount > $5000 and Transaction_Type is Online\")\n",
    "print(High_risk)"
   ]
  },
  {
   "cell_type": "code",
   "execution_count": 24,
   "metadata": {},
   "outputs": [
    {
     "name": "stdout",
     "output_type": "stream",
     "text": [
      "   Transaction_ID  Customer_ID Transaction_Date Transaction_Type     Merchant  \\\n",
      "0          102592         1000       2023-04-19           Online       Amazon   \n",
      "1          102502         1001       2023-04-15              POS  Apple Store   \n",
      "2          100926         1003       2023-02-08           Online       Target   \n",
      "3          104143         1003       2023-06-22   Mobile Payment       Target   \n",
      "4          101797         1006       2023-03-16              POS      BestBuy   \n",
      "\n",
      "      Category   Amount Payment_Mode Transaction_Status          Location  \\\n",
      "0  Electronics  3324.12          UPI           Declined       West Joshua   \n",
      "1  Electronics   882.18  Credit Card           Approved    Port Cathyland   \n",
      "2  Electronics  2776.66       PayPal           Approved    Lake Peterbury   \n",
      "3       Travel  3269.75       PayPal           Approved        Monicaside   \n",
      "4       Travel  1615.50       PayPal           Approved  Nathanielborough   \n",
      "\n",
      "   year  Month  Day  Discounted_Amount Transaction_Quality  Time_difference  \\\n",
      "0  2023      4   19          3157.9140                High              NaN   \n",
      "1  2023      4   15           838.0710                High              NaN   \n",
      "2  2023      2    8          2637.8270                High              NaN   \n",
      "3  2023      6   22          3106.2625                High         192960.0   \n",
      "4  2023      3   16          1534.7250                High              NaN   \n",
      "\n",
      "   Age Gender Account_Status  \n",
      "0  NaN    NaN            NaN  \n",
      "1  NaN    NaN            NaN  \n",
      "2  NaN    NaN            NaN  \n",
      "3  NaN    NaN            NaN  \n",
      "4  NaN    NaN            NaN  \n"
     ]
    }
   ],
   "source": [
    "#Data Merging and Joining\n",
    "#Merge it with customer dataset\n",
    "customer_info = pd.read_csv(\"C:/Users/hp/Desktop/Data Analyst July 24/Analysis with python/python pandas/pandas assign case study/customer_info.csv\")\n",
    "df_merged = df.merge(customer_info, on=\"Customer_ID\", how=\"left\")\n",
    "print(df_merged.head())"
   ]
  },
  {
   "cell_type": "code",
   "execution_count": 26,
   "metadata": {},
   "outputs": [
    {
     "name": "stdout",
     "output_type": "stream",
     "text": [
      "Average transaction amount per Age group\n",
      "    Age     Amount\n",
      "0  25.0  4557.1600\n",
      "1  29.0  2415.6500\n",
      "2  34.0  2619.3700\n",
      "3  45.0  2574.7900\n",
      "4  53.0  3238.1025\n"
     ]
    }
   ],
   "source": [
    "# Calculate average transaction amount per Age group\n",
    "age_group_avg = df_merged.groupby(\"Age\")[\"Amount\"].mean().reset_index()\n",
    "\n",
    "# Display result\n",
    "print(f\"Average transaction amount per Age group\")\n",
    "print(age_group_avg)\n"
   ]
  },
  {
   "cell_type": "code",
   "execution_count": 30,
   "metadata": {},
   "outputs": [
    {
     "data": {
      "image/png": "[encoded data removed]",
      "text/plain": [
       "<Figure size 1000x500 with 1 Axes>"
      ]
     },
     "metadata": {},
     "output_type": "display_data"
    }
   ],
   "source": [
    "plt.figure(figsize=(10,5))\n",
    "sns.barplot(x='Category', y='Amount', data=df)\n",
    "plt.title('Total Transaction amount per Category')\n",
    "plt.xticks(rotation=45)\n",
    "plt.xlabel('Category')\n",
    "plt.ylabel('Amount')\n",
    "plt.show()"
   ]
  },
  {
   "cell_type": "code",
   "execution_count": 33,
   "metadata": {},
   "outputs": [
    {
     "data": {
      "text/plain": [
       "Transaction_ID                  int64\n",
       "Customer_ID                     int64\n",
       "Transaction_Date       datetime64[ns]\n",
       "Transaction_Type               object\n",
       "Merchant                       object\n",
       "Category                       object\n",
       "Amount                        float64\n",
       "Payment_Mode                   object\n",
       "Transaction_Status             object\n",
       "Location                       object\n",
       "year                            int32\n",
       "Month                           int32\n",
       "Day                             int32\n",
       "Discounted_Amount             float64\n",
       "Transaction_Quality            object\n",
       "Time_difference               float64\n",
       "dtype: object"
      ]
     },
     "execution_count": 33,
     "metadata": {},
     "output_type": "execute_result"
    }
   ],
   "source": [
    "df.dtypes"
   ]
  },
  {
   "cell_type": "code",
   "execution_count": 37,
   "metadata": {},
   "outputs": [
    {
     "name": "stdout",
     "output_type": "stream",
     "text": [
      "                   Transaction_ID  Customer_ID    Amount  year     Month  \\\n",
      "Transaction_ID           1.000000     0.018758 -0.008887   NaN  0.991426   \n",
      "Customer_ID              0.018758     1.000000 -0.001742   NaN  0.017781   \n",
      "Amount                  -0.008887    -0.001742  1.000000   NaN -0.008827   \n",
      "year                          NaN          NaN       NaN   NaN       NaN   \n",
      "Month                    0.991426     0.017781 -0.008827   NaN  1.000000   \n",
      "Day                      0.048285     0.005936 -0.000049   NaN -0.082192   \n",
      "Discounted_Amount       -0.008846    -0.001732  0.999996   NaN -0.008785   \n",
      "Time_difference          0.429161     0.030543 -0.019078   NaN  0.423002   \n",
      "\n",
      "                        Day  Discounted_Amount  Time_difference  \n",
      "Transaction_ID     0.048285          -0.008846         0.429161  \n",
      "Customer_ID        0.005936          -0.001732         0.030543  \n",
      "Amount            -0.000049           0.999996        -0.019078  \n",
      "year                    NaN                NaN              NaN  \n",
      "Month             -0.082192          -0.008785         0.423002  \n",
      "Day                1.000000          -0.000069        -0.009262  \n",
      "Discounted_Amount -0.000069           1.000000        -0.018993  \n",
      "Time_difference   -0.009262          -0.018993         1.000000  \n"
     ]
    }
   ],
   "source": [
    "corr_matrix = df.select_dtypes(include=['number']).corr()\n",
    "print(corr_matrix)"
   ]
  },
  {
   "cell_type": "code",
   "execution_count": 38,
   "metadata": {},
   "outputs": [
    {
     "data": {
      "image/png": "[encoded data removed]",
      "text/plain": [
       "<Figure size 640x480 with 2 Axes>"
      ]
     },
     "metadata": {},
     "output_type": "display_data"
    }
   ],
   "source": [
    "#create the heatmap\n",
    "sns.heatmap(corr_matrix, annot=True, cmap='coolwarm')\n",
    "plt.title(\"Correlation Heatmap\")\n",
    "plt.show()"
   ]
  },
  {
   "cell_type": "code",
   "execution_count": null,
   "metadata": {},
   "outputs": [],
   "source": []
  }
 ],
 "metadata": {
  "kernelspec": {
   "display_name": "base",
   "language": "python",
   "name": "python3"
  },
  "language_info": {
   "codemirror_mode": {
    "name": "ipython",
    "version": 3
   },
   "file_extension": ".py",
   "mimetype": "text/x-python",
   "name": "python",
   "nbconvert_exporter": "python",
   "pygments_lexer": "ipython3",
   "version": "3.12.7"
  }
 },
 "nbformat": 4,
 "nbformat_minor": 2
}
